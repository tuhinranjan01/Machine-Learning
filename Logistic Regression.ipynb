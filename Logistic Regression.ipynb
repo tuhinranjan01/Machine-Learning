{
 "cells": [
  {
   "cell_type": "code",
   "execution_count": 1,
   "metadata": {
    "executionInfo": {
     "elapsed": 987,
     "status": "ok",
     "timestamp": 1603029688622,
     "user": {
      "displayName": "Vicky Peng",
      "photoUrl": "https://lh3.googleusercontent.com/-fwVqDZMI5z4/AAAAAAAAAAI/AAAAAAAAAGg/D67kg5K5FYo/s64/photo.jpg",
      "userId": "14955137065149580560"
     },
     "user_tz": 240
    },
    "id": "lOK9ClU_l1JF"
   },
   "outputs": [],
   "source": [
    "# Import all the requisite libraries\n",
    "\n",
    "import pandas as pd\n",
    "import numpy as np\n",
    "import matplotlib.pyplot as plt\n",
    "import seaborn as sns\n",
    "from sklearn.linear_model import LogisticRegression\n",
    "from sklearn.preprocessing import StandardScaler\n",
    "from sklearn.model_selection import train_test_split, cross_val_score, learning_curve, KFold\n",
    "from sklearn.metrics import accuracy_score, confusion_matrix, roc_curve, classification_report\n",
    "from scipy.optimize import fmin_tnc\n",
    "from sklearn.model_selection import GridSearchCV\n",
    "import warnings\n",
    "warnings.filterwarnings(\"ignore\")"
   ]
  },
  {
   "cell_type": "markdown",
   "metadata": {
    "id": "83jEhZFbl1JL"
   },
   "source": [
    "### Data Loading"
   ]
  },
  {
   "cell_type": "code",
   "execution_count": 2,
   "metadata": {
    "colab": {
     "base_uri": "https://localhost:8080/",
     "height": 194
    },
    "executionInfo": {
     "elapsed": 1141,
     "status": "ok",
     "timestamp": 1603029688784,
     "user": {
      "displayName": "Vicky Peng",
      "photoUrl": "https://lh3.googleusercontent.com/-fwVqDZMI5z4/AAAAAAAAAAI/AAAAAAAAAGg/D67kg5K5FYo/s64/photo.jpg",
      "userId": "14955137065149580560"
     },
     "user_tz": 240
    },
    "id": "tQdOfOMUl1JM",
    "outputId": "874fe7a0-1734-498c-eccd-8d1041c1960e"
   },
   "outputs": [
    {
     "data": {
      "text/html": [
       "<div>\n",
       "<style scoped>\n",
       "    .dataframe tbody tr th:only-of-type {\n",
       "        vertical-align: middle;\n",
       "    }\n",
       "\n",
       "    .dataframe tbody tr th {\n",
       "        vertical-align: top;\n",
       "    }\n",
       "\n",
       "    .dataframe thead th {\n",
       "        text-align: right;\n",
       "    }\n",
       "</style>\n",
       "<table border=\"1\" class=\"dataframe\">\n",
       "  <thead>\n",
       "    <tr style=\"text-align: right;\">\n",
       "      <th></th>\n",
       "      <th>male</th>\n",
       "      <th>age</th>\n",
       "      <th>education</th>\n",
       "      <th>currentSmoker</th>\n",
       "      <th>cigsPerDay</th>\n",
       "      <th>BPMeds</th>\n",
       "      <th>prevalentStroke</th>\n",
       "      <th>prevalentHyp</th>\n",
       "      <th>diabetes</th>\n",
       "      <th>totChol</th>\n",
       "      <th>sysBP</th>\n",
       "      <th>diaBP</th>\n",
       "      <th>BMI</th>\n",
       "      <th>heartRate</th>\n",
       "      <th>glucose</th>\n",
       "      <th>TenYearCHD</th>\n",
       "    </tr>\n",
       "  </thead>\n",
       "  <tbody>\n",
       "    <tr>\n",
       "      <th>0</th>\n",
       "      <td>1</td>\n",
       "      <td>39</td>\n",
       "      <td>4.0</td>\n",
       "      <td>0</td>\n",
       "      <td>0.0</td>\n",
       "      <td>0.0</td>\n",
       "      <td>0</td>\n",
       "      <td>0</td>\n",
       "      <td>0</td>\n",
       "      <td>195.0</td>\n",
       "      <td>106.0</td>\n",
       "      <td>70.0</td>\n",
       "      <td>26.97</td>\n",
       "      <td>80.0</td>\n",
       "      <td>77.0</td>\n",
       "      <td>0</td>\n",
       "    </tr>\n",
       "    <tr>\n",
       "      <th>1</th>\n",
       "      <td>0</td>\n",
       "      <td>46</td>\n",
       "      <td>2.0</td>\n",
       "      <td>0</td>\n",
       "      <td>0.0</td>\n",
       "      <td>0.0</td>\n",
       "      <td>0</td>\n",
       "      <td>0</td>\n",
       "      <td>0</td>\n",
       "      <td>250.0</td>\n",
       "      <td>121.0</td>\n",
       "      <td>81.0</td>\n",
       "      <td>28.73</td>\n",
       "      <td>95.0</td>\n",
       "      <td>76.0</td>\n",
       "      <td>0</td>\n",
       "    </tr>\n",
       "    <tr>\n",
       "      <th>2</th>\n",
       "      <td>1</td>\n",
       "      <td>48</td>\n",
       "      <td>1.0</td>\n",
       "      <td>1</td>\n",
       "      <td>20.0</td>\n",
       "      <td>0.0</td>\n",
       "      <td>0</td>\n",
       "      <td>0</td>\n",
       "      <td>0</td>\n",
       "      <td>245.0</td>\n",
       "      <td>127.5</td>\n",
       "      <td>80.0</td>\n",
       "      <td>25.34</td>\n",
       "      <td>75.0</td>\n",
       "      <td>70.0</td>\n",
       "      <td>0</td>\n",
       "    </tr>\n",
       "    <tr>\n",
       "      <th>3</th>\n",
       "      <td>0</td>\n",
       "      <td>61</td>\n",
       "      <td>3.0</td>\n",
       "      <td>1</td>\n",
       "      <td>30.0</td>\n",
       "      <td>0.0</td>\n",
       "      <td>0</td>\n",
       "      <td>1</td>\n",
       "      <td>0</td>\n",
       "      <td>225.0</td>\n",
       "      <td>150.0</td>\n",
       "      <td>95.0</td>\n",
       "      <td>28.58</td>\n",
       "      <td>65.0</td>\n",
       "      <td>103.0</td>\n",
       "      <td>1</td>\n",
       "    </tr>\n",
       "    <tr>\n",
       "      <th>4</th>\n",
       "      <td>0</td>\n",
       "      <td>46</td>\n",
       "      <td>3.0</td>\n",
       "      <td>1</td>\n",
       "      <td>23.0</td>\n",
       "      <td>0.0</td>\n",
       "      <td>0</td>\n",
       "      <td>0</td>\n",
       "      <td>0</td>\n",
       "      <td>285.0</td>\n",
       "      <td>130.0</td>\n",
       "      <td>84.0</td>\n",
       "      <td>23.10</td>\n",
       "      <td>85.0</td>\n",
       "      <td>85.0</td>\n",
       "      <td>0</td>\n",
       "    </tr>\n",
       "  </tbody>\n",
       "</table>\n",
       "</div>"
      ],
      "text/plain": [
       "   male  age  education  currentSmoker  cigsPerDay  BPMeds  prevalentStroke  \\\n",
       "0     1   39        4.0              0         0.0     0.0                0   \n",
       "1     0   46        2.0              0         0.0     0.0                0   \n",
       "2     1   48        1.0              1        20.0     0.0                0   \n",
       "3     0   61        3.0              1        30.0     0.0                0   \n",
       "4     0   46        3.0              1        23.0     0.0                0   \n",
       "\n",
       "   prevalentHyp  diabetes  totChol  sysBP  diaBP    BMI  heartRate  glucose  \\\n",
       "0             0         0    195.0  106.0   70.0  26.97       80.0     77.0   \n",
       "1             0         0    250.0  121.0   81.0  28.73       95.0     76.0   \n",
       "2             0         0    245.0  127.5   80.0  25.34       75.0     70.0   \n",
       "3             1         0    225.0  150.0   95.0  28.58       65.0    103.0   \n",
       "4             0         0    285.0  130.0   84.0  23.10       85.0     85.0   \n",
       "\n",
       "   TenYearCHD  \n",
       "0           0  \n",
       "1           0  \n",
       "2           0  \n",
       "3           1  \n",
       "4           0  "
      ]
     },
     "execution_count": 2,
     "metadata": {},
     "output_type": "execute_result"
    }
   ],
   "source": [
    "#Read in Data\n",
    "df = pd.read_csv('groups8_47759_9725490_heartDiseaseData.csv')\n",
    "df = df.dropna() #Removing all the missing values\n",
    "df.head() # General Information of the imported data"
   ]
  },
  {
   "cell_type": "code",
   "execution_count": 3,
   "metadata": {
    "colab": {
     "base_uri": "https://localhost:8080/",
     "height": 426
    },
    "executionInfo": {
     "elapsed": 1119,
     "status": "ok",
     "timestamp": 1603029688785,
     "user": {
      "displayName": "Vicky Peng",
      "photoUrl": "https://lh3.googleusercontent.com/-fwVqDZMI5z4/AAAAAAAAAAI/AAAAAAAAAGg/D67kg5K5FYo/s64/photo.jpg",
      "userId": "14955137065149580560"
     },
     "user_tz": 240
    },
    "id": "sMBkeFhLl1JQ",
    "outputId": "73b8f105-6ea0-4503-d02e-0fc435c89707"
   },
   "outputs": [
    {
     "name": "stdout",
     "output_type": "stream",
     "text": [
      "<class 'pandas.core.frame.DataFrame'>\n",
      "Int64Index: 3656 entries, 0 to 4237\n",
      "Data columns (total 16 columns):\n",
      " #   Column           Non-Null Count  Dtype  \n",
      "---  ------           --------------  -----  \n",
      " 0   male             3656 non-null   int64  \n",
      " 1   age              3656 non-null   int64  \n",
      " 2   education        3656 non-null   float64\n",
      " 3   currentSmoker    3656 non-null   int64  \n",
      " 4   cigsPerDay       3656 non-null   float64\n",
      " 5   BPMeds           3656 non-null   float64\n",
      " 6   prevalentStroke  3656 non-null   int64  \n",
      " 7   prevalentHyp     3656 non-null   int64  \n",
      " 8   diabetes         3656 non-null   int64  \n",
      " 9   totChol          3656 non-null   float64\n",
      " 10  sysBP            3656 non-null   float64\n",
      " 11  diaBP            3656 non-null   float64\n",
      " 12  BMI              3656 non-null   float64\n",
      " 13  heartRate        3656 non-null   float64\n",
      " 14  glucose          3656 non-null   float64\n",
      " 15  TenYearCHD       3656 non-null   int64  \n",
      "dtypes: float64(9), int64(7)\n",
      "memory usage: 485.6 KB\n"
     ]
    }
   ],
   "source": [
    "df.info()"
   ]
  },
  {
   "cell_type": "code",
   "execution_count": 4,
   "metadata": {
    "colab": {
     "base_uri": "https://localhost:8080/",
     "height": 302
    },
    "executionInfo": {
     "elapsed": 1103,
     "status": "ok",
     "timestamp": 1603029688785,
     "user": {
      "displayName": "Vicky Peng",
      "photoUrl": "https://lh3.googleusercontent.com/-fwVqDZMI5z4/AAAAAAAAAAI/AAAAAAAAAGg/D67kg5K5FYo/s64/photo.jpg",
      "userId": "14955137065149580560"
     },
     "user_tz": 240
    },
    "id": "gHE8OAnll1JT",
    "outputId": "4d0f8b30-bb85-4a62-d53a-0ddb97f4580d"
   },
   "outputs": [
    {
     "data": {
      "text/html": [
       "<div>\n",
       "<style scoped>\n",
       "    .dataframe tbody tr th:only-of-type {\n",
       "        vertical-align: middle;\n",
       "    }\n",
       "\n",
       "    .dataframe tbody tr th {\n",
       "        vertical-align: top;\n",
       "    }\n",
       "\n",
       "    .dataframe thead th {\n",
       "        text-align: right;\n",
       "    }\n",
       "</style>\n",
       "<table border=\"1\" class=\"dataframe\">\n",
       "  <thead>\n",
       "    <tr style=\"text-align: right;\">\n",
       "      <th></th>\n",
       "      <th>male</th>\n",
       "      <th>age</th>\n",
       "      <th>education</th>\n",
       "      <th>currentSmoker</th>\n",
       "      <th>cigsPerDay</th>\n",
       "      <th>BPMeds</th>\n",
       "      <th>prevalentStroke</th>\n",
       "      <th>prevalentHyp</th>\n",
       "      <th>diabetes</th>\n",
       "      <th>totChol</th>\n",
       "      <th>sysBP</th>\n",
       "      <th>diaBP</th>\n",
       "      <th>BMI</th>\n",
       "      <th>heartRate</th>\n",
       "      <th>glucose</th>\n",
       "      <th>TenYearCHD</th>\n",
       "    </tr>\n",
       "  </thead>\n",
       "  <tbody>\n",
       "    <tr>\n",
       "      <th>count</th>\n",
       "      <td>3656.000000</td>\n",
       "      <td>3656.000000</td>\n",
       "      <td>3656.000000</td>\n",
       "      <td>3656.000000</td>\n",
       "      <td>3656.000000</td>\n",
       "      <td>3656.000000</td>\n",
       "      <td>3656.000000</td>\n",
       "      <td>3656.000000</td>\n",
       "      <td>3656.000000</td>\n",
       "      <td>3656.000000</td>\n",
       "      <td>3656.000000</td>\n",
       "      <td>3656.000000</td>\n",
       "      <td>3656.000000</td>\n",
       "      <td>3656.000000</td>\n",
       "      <td>3656.000000</td>\n",
       "      <td>3656.000000</td>\n",
       "    </tr>\n",
       "    <tr>\n",
       "      <th>mean</th>\n",
       "      <td>0.443654</td>\n",
       "      <td>49.557440</td>\n",
       "      <td>1.979759</td>\n",
       "      <td>0.489059</td>\n",
       "      <td>9.022155</td>\n",
       "      <td>0.030361</td>\n",
       "      <td>0.005744</td>\n",
       "      <td>0.311543</td>\n",
       "      <td>0.027079</td>\n",
       "      <td>236.873085</td>\n",
       "      <td>132.368025</td>\n",
       "      <td>82.912062</td>\n",
       "      <td>25.784185</td>\n",
       "      <td>75.730580</td>\n",
       "      <td>81.856127</td>\n",
       "      <td>0.152352</td>\n",
       "    </tr>\n",
       "    <tr>\n",
       "      <th>std</th>\n",
       "      <td>0.496883</td>\n",
       "      <td>8.561133</td>\n",
       "      <td>1.022657</td>\n",
       "      <td>0.499949</td>\n",
       "      <td>11.918869</td>\n",
       "      <td>0.171602</td>\n",
       "      <td>0.075581</td>\n",
       "      <td>0.463187</td>\n",
       "      <td>0.162335</td>\n",
       "      <td>44.096223</td>\n",
       "      <td>22.092444</td>\n",
       "      <td>11.974825</td>\n",
       "      <td>4.065913</td>\n",
       "      <td>11.982952</td>\n",
       "      <td>23.910128</td>\n",
       "      <td>0.359411</td>\n",
       "    </tr>\n",
       "    <tr>\n",
       "      <th>min</th>\n",
       "      <td>0.000000</td>\n",
       "      <td>32.000000</td>\n",
       "      <td>1.000000</td>\n",
       "      <td>0.000000</td>\n",
       "      <td>0.000000</td>\n",
       "      <td>0.000000</td>\n",
       "      <td>0.000000</td>\n",
       "      <td>0.000000</td>\n",
       "      <td>0.000000</td>\n",
       "      <td>113.000000</td>\n",
       "      <td>83.500000</td>\n",
       "      <td>48.000000</td>\n",
       "      <td>15.540000</td>\n",
       "      <td>44.000000</td>\n",
       "      <td>40.000000</td>\n",
       "      <td>0.000000</td>\n",
       "    </tr>\n",
       "    <tr>\n",
       "      <th>25%</th>\n",
       "      <td>0.000000</td>\n",
       "      <td>42.000000</td>\n",
       "      <td>1.000000</td>\n",
       "      <td>0.000000</td>\n",
       "      <td>0.000000</td>\n",
       "      <td>0.000000</td>\n",
       "      <td>0.000000</td>\n",
       "      <td>0.000000</td>\n",
       "      <td>0.000000</td>\n",
       "      <td>206.000000</td>\n",
       "      <td>117.000000</td>\n",
       "      <td>75.000000</td>\n",
       "      <td>23.080000</td>\n",
       "      <td>68.000000</td>\n",
       "      <td>71.000000</td>\n",
       "      <td>0.000000</td>\n",
       "    </tr>\n",
       "    <tr>\n",
       "      <th>50%</th>\n",
       "      <td>0.000000</td>\n",
       "      <td>49.000000</td>\n",
       "      <td>2.000000</td>\n",
       "      <td>0.000000</td>\n",
       "      <td>0.000000</td>\n",
       "      <td>0.000000</td>\n",
       "      <td>0.000000</td>\n",
       "      <td>0.000000</td>\n",
       "      <td>0.000000</td>\n",
       "      <td>234.000000</td>\n",
       "      <td>128.000000</td>\n",
       "      <td>82.000000</td>\n",
       "      <td>25.380000</td>\n",
       "      <td>75.000000</td>\n",
       "      <td>78.000000</td>\n",
       "      <td>0.000000</td>\n",
       "    </tr>\n",
       "    <tr>\n",
       "      <th>75%</th>\n",
       "      <td>1.000000</td>\n",
       "      <td>56.000000</td>\n",
       "      <td>3.000000</td>\n",
       "      <td>1.000000</td>\n",
       "      <td>20.000000</td>\n",
       "      <td>0.000000</td>\n",
       "      <td>0.000000</td>\n",
       "      <td>1.000000</td>\n",
       "      <td>0.000000</td>\n",
       "      <td>263.250000</td>\n",
       "      <td>144.000000</td>\n",
       "      <td>90.000000</td>\n",
       "      <td>28.040000</td>\n",
       "      <td>82.000000</td>\n",
       "      <td>87.000000</td>\n",
       "      <td>0.000000</td>\n",
       "    </tr>\n",
       "    <tr>\n",
       "      <th>max</th>\n",
       "      <td>1.000000</td>\n",
       "      <td>70.000000</td>\n",
       "      <td>4.000000</td>\n",
       "      <td>1.000000</td>\n",
       "      <td>70.000000</td>\n",
       "      <td>1.000000</td>\n",
       "      <td>1.000000</td>\n",
       "      <td>1.000000</td>\n",
       "      <td>1.000000</td>\n",
       "      <td>600.000000</td>\n",
       "      <td>295.000000</td>\n",
       "      <td>142.500000</td>\n",
       "      <td>56.800000</td>\n",
       "      <td>143.000000</td>\n",
       "      <td>394.000000</td>\n",
       "      <td>1.000000</td>\n",
       "    </tr>\n",
       "  </tbody>\n",
       "</table>\n",
       "</div>"
      ],
      "text/plain": [
       "              male          age    education  currentSmoker   cigsPerDay  \\\n",
       "count  3656.000000  3656.000000  3656.000000    3656.000000  3656.000000   \n",
       "mean      0.443654    49.557440     1.979759       0.489059     9.022155   \n",
       "std       0.496883     8.561133     1.022657       0.499949    11.918869   \n",
       "min       0.000000    32.000000     1.000000       0.000000     0.000000   \n",
       "25%       0.000000    42.000000     1.000000       0.000000     0.000000   \n",
       "50%       0.000000    49.000000     2.000000       0.000000     0.000000   \n",
       "75%       1.000000    56.000000     3.000000       1.000000    20.000000   \n",
       "max       1.000000    70.000000     4.000000       1.000000    70.000000   \n",
       "\n",
       "            BPMeds  prevalentStroke  prevalentHyp     diabetes      totChol  \\\n",
       "count  3656.000000      3656.000000   3656.000000  3656.000000  3656.000000   \n",
       "mean      0.030361         0.005744      0.311543     0.027079   236.873085   \n",
       "std       0.171602         0.075581      0.463187     0.162335    44.096223   \n",
       "min       0.000000         0.000000      0.000000     0.000000   113.000000   \n",
       "25%       0.000000         0.000000      0.000000     0.000000   206.000000   \n",
       "50%       0.000000         0.000000      0.000000     0.000000   234.000000   \n",
       "75%       0.000000         0.000000      1.000000     0.000000   263.250000   \n",
       "max       1.000000         1.000000      1.000000     1.000000   600.000000   \n",
       "\n",
       "             sysBP        diaBP          BMI    heartRate      glucose  \\\n",
       "count  3656.000000  3656.000000  3656.000000  3656.000000  3656.000000   \n",
       "mean    132.368025    82.912062    25.784185    75.730580    81.856127   \n",
       "std      22.092444    11.974825     4.065913    11.982952    23.910128   \n",
       "min      83.500000    48.000000    15.540000    44.000000    40.000000   \n",
       "25%     117.000000    75.000000    23.080000    68.000000    71.000000   \n",
       "50%     128.000000    82.000000    25.380000    75.000000    78.000000   \n",
       "75%     144.000000    90.000000    28.040000    82.000000    87.000000   \n",
       "max     295.000000   142.500000    56.800000   143.000000   394.000000   \n",
       "\n",
       "        TenYearCHD  \n",
       "count  3656.000000  \n",
       "mean      0.152352  \n",
       "std       0.359411  \n",
       "min       0.000000  \n",
       "25%       0.000000  \n",
       "50%       0.000000  \n",
       "75%       0.000000  \n",
       "max       1.000000  "
      ]
     },
     "execution_count": 4,
     "metadata": {},
     "output_type": "execute_result"
    }
   ],
   "source": [
    "df.describe() # Some Statical information of the imported data"
   ]
  },
  {
   "cell_type": "code",
   "execution_count": 5,
   "metadata": {
    "colab": {
     "base_uri": "https://localhost:8080/",
     "height": 570
    },
    "executionInfo": {
     "elapsed": 1533,
     "status": "ok",
     "timestamp": 1603029689225,
     "user": {
      "displayName": "Vicky Peng",
      "photoUrl": "https://lh3.googleusercontent.com/-fwVqDZMI5z4/AAAAAAAAAAI/AAAAAAAAAGg/D67kg5K5FYo/s64/photo.jpg",
      "userId": "14955137065149580560"
     },
     "user_tz": 240
    },
    "id": "bc_e0L3tl1JX",
    "outputId": "8339c5bd-d47d-4bd4-b895-bf90bc3a447e"
   },
   "outputs": [
    {
     "data": {
      "text/plain": [
       "<matplotlib.axes._subplots.AxesSubplot at 0x7fbac7ae9f10>"
      ]
     },
     "execution_count": 5,
     "metadata": {},
     "output_type": "execute_result"
    },
    {
     "data": {
      "image/png": "[encoded data removed]",
      "text/plain": [
       "<Figure size 864x576 with 1 Axes>"
      ]
     },
     "metadata": {
      "needs_background": "light"
     },
     "output_type": "display_data"
    }
   ],
   "source": [
    "fig, ax = plt.subplots(figsize=(12,8))\n",
    "sns.heatmap(df.isnull(), cmap='coolwarm', yticklabels=False, cbar=False, ax=ax)"
   ]
  },
  {
   "cell_type": "markdown",
   "metadata": {
    "id": "1CXqT-qPl1Ja"
   },
   "source": [
    "### No missing data in the columns confirmed through Heatmap plot, so no need for data cleaning"
   ]
  },
  {
   "cell_type": "markdown",
   "metadata": {
    "id": "BXMCXa-tl1Jb"
   },
   "source": [
    "### Split the data into Train and Test Set"
   ]
  },
  {
   "cell_type": "code",
   "execution_count": 6,
   "metadata": {
    "executionInfo": {
     "elapsed": 1525,
     "status": "ok",
     "timestamp": 1603029689226,
     "user": {
      "displayName": "Vicky Peng",
      "photoUrl": "https://lh3.googleusercontent.com/-fwVqDZMI5z4/AAAAAAAAAAI/AAAAAAAAAGg/D67kg5K5FYo/s64/photo.jpg",
      "userId": "14955137065149580560"
     },
     "user_tz": 240
    },
    "id": "BEa65Jyyl1Jb"
   },
   "outputs": [],
   "source": [
    "# Training & Testing Data\n",
    "\n",
    "X = df.iloc[:, :-1]\n",
    "y = df.iloc[:, -1]\n",
    "\n",
    "# perform a 7:3 train-test split\n",
    "X_train, X_test, y_train, y_test = train_test_split(X, y, test_size=0.3, random_state = 6)\n"
   ]
  },
  {
   "cell_type": "markdown",
   "metadata": {
    "id": "TLiycLw9l1Je"
   },
   "source": [
    "### Rescalling Values"
   ]
  },
  {
   "cell_type": "code",
   "execution_count": 7,
   "metadata": {
    "executionInfo": {
     "elapsed": 1519,
     "status": "ok",
     "timestamp": 1603029689227,
     "user": {
      "displayName": "Vicky Peng",
      "photoUrl": "https://lh3.googleusercontent.com/-fwVqDZMI5z4/AAAAAAAAAAI/AAAAAAAAAGg/D67kg5K5FYo/s64/photo.jpg",
      "userId": "14955137065149580560"
     },
     "user_tz": 240
    },
    "id": "veSutPJ9l1Jf"
   },
   "outputs": [],
   "source": [
    "#Rescaling values\n",
    "\n",
    "X_train = StandardScaler().fit_transform(X_train)\n",
    "X_test = StandardScaler().fit_transform(X_test)"
   ]
  },
  {
   "cell_type": "markdown",
   "metadata": {
    "id": "9V0hDLUzl1Ji"
   },
   "source": [
    "# Logistic Regression with Scikit-Learn "
   ]
  },
  {
   "cell_type": "markdown",
   "metadata": {
    "id": "w88hqJHDl1Jl"
   },
   "source": [
    "### Bias Variance Trade Off"
   ]
  },
  {
   "cell_type": "code",
   "execution_count": 8,
   "metadata": {
    "colab": {
     "base_uri": "https://localhost:8080/",
     "height": 299
    },
    "executionInfo": {
     "elapsed": 2285,
     "status": "ok",
     "timestamp": 1603029690002,
     "user": {
      "displayName": "Vicky Peng",
      "photoUrl": "https://lh3.googleusercontent.com/-fwVqDZMI5z4/AAAAAAAAAAI/AAAAAAAAAGg/D67kg5K5FYo/s64/photo.jpg",
      "userId": "14955137065149580560"
     },
     "user_tz": 240
    },
    "id": "f6n5Jkkwl1Jl",
    "outputId": "26316523-bbd5-4a96-8cc5-d715031c1cdf"
   },
   "outputs": [
    {
     "data": {
      "image/png": "[encoded data removed]",
      "text/plain": [
       "<Figure size 432x288 with 1 Axes>"
      ]
     },
     "metadata": {
      "needs_background": "light"
     },
     "output_type": "display_data"
    }
   ],
   "source": [
    "result_list = []\n",
    "\n",
    "# Create a list of tunning value fir C\n",
    "C_list = [0.01, 0.1, 1, 10, 100, 1000] \n",
    "\n",
    "# Tunning hyperparameter C for the created training model\n",
    "for C in C_list :\n",
    "    classifier = LogisticRegression(C=C, penalty='l1', solver='saga')\n",
    "    classifier.fit(X_train, y_train)\n",
    "    train_accuracy = accuracy_score(y_train, classifier.predict(X_train))\n",
    "    test_accuracy = accuracy_score(y_test, classifier.predict(X_test))\n",
    "    result_list.append((C, train_accuracy, test_accuracy))\n",
    "\n",
    "result_df = pd.DataFrame(result_list, columns=[\"C\", \"Train Accuracy\", \"Test Accuracy\"])\n",
    "plot = result_df.plot(x=\"C\", y=[\"Train Accuracy\", \"Test Accuracy\"],  logx=True, title = 'Scikit-learn: Test and Train Accuracy Under Different Hyperprameters')\n",
    "plot.set_xlabel('C')\n",
    "plot.set_ylabel('Accuracy')\n",
    "plt.show()"
   ]
  },
  {
   "cell_type": "markdown",
   "metadata": {
    "id": "GgasX7z2zkuX"
   },
   "source": [
    "As C becomes larger, train accuract always goes large, but test accuracy decreses if C is too large. Test accruracy descreased because large C would cause overfitting the training data. Even though it resulces the bias, it creates a large variance and reduces the test accuracy. For our model, C = 1 gives  the highesr testing accruracy."
   ]
  },
  {
   "cell_type": "markdown",
   "metadata": {
    "id": "mdHRjzHcl1KC"
   },
   "source": [
    "### Hyperparameter Tunning with Grid Search"
   ]
  },
  {
   "cell_type": "code",
   "execution_count": 9,
   "metadata": {
    "id": "9Ig43nyi1u_T"
   },
   "outputs": [
    {
     "name": "stdout",
     "output_type": "stream",
     "text": [
      "tuned hpyerparameters :(best parameters)  {'C': 1, 'class_weight': 'auto', 'solver': 'saga'}\n",
      "train accuracy : 0.8561902573529412\n",
      "test accuracy : 0.8486782133090246\n"
     ]
    }
   ],
   "source": [
    "class_weight_list = ['auto', 'balanced']\n",
    "solver_list =  ['liblinear','saga']\n",
    "C_list = C_list\n",
    "\n",
    "param_grid = [\n",
    "  {'C': C_list, 'solver': solver_list, 'class_weight': class_weight_list}\n",
    " ]\n",
    "\n",
    "model = LogisticRegression(penalty = 'l1')\n",
    "model_cv = GridSearchCV(model, param_grid ,cv=10)\n",
    "model_cv.fit(X_train,y_train)\n",
    "y_test_pred = model_cv.predict(X_test)\n",
    "test_accuracy = accuracy_score(y_test, y_test_pred)\n",
    "\n",
    "print(\"tuned hpyerparameters :(best parameters) \",model_cv.best_params_)\n",
    "print(\"train accuracy :\", model_cv.best_score_)\n",
    "print(\"test accuracy :\", test_accuracy)"
   ]
  },
  {
   "cell_type": "markdown",
   "metadata": {
    "id": "xnGmE5R3760q"
   },
   "source": [
    "### Model Perfomance"
   ]
  },
  {
   "cell_type": "markdown",
   "metadata": {
    "id": "e0OWd_LFl1Jr"
   },
   "source": [
    "#### Plot ROC Curve"
   ]
  },
  {
   "cell_type": "code",
   "execution_count": 10,
   "metadata": {
    "id": "dWBs014Wl1Jr"
   },
   "outputs": [
    {
     "data": {
      "image/png": "[encoded data removed]",
      "text/plain": [
       "<Figure size 432x288 with 1 Axes>"
      ]
     },
     "metadata": {
      "needs_background": "light"
     },
     "output_type": "display_data"
    }
   ],
   "source": [
    " #Show ROC Curve on test data\n",
    "\n",
    "y_pred_prob = model_cv.predict_proba(X_test)[:,1]\n",
    "fpr, tpr, thresholds = roc_curve(y_test, y_pred_prob)\n",
    "\n",
    "plt.plot(fpr, tpr)\n",
    "\n",
    "plt.plot([0,1], [0,1], 'k--')\n",
    "plt.xlabel('False Positive Rate')\n",
    "plt.ylabel('True Positive Rate')\n",
    "plt.title('Logistic Regression ROC Curve with Optimized Parameters')\n",
    "\n",
    "plt.show()\n"
   ]
  },
  {
   "cell_type": "markdown",
   "metadata": {
    "id": "pfrJbHzXl1Jo"
   },
   "source": [
    "#### Creat Confusing Matrix"
   ]
  },
  {
   "cell_type": "code",
   "execution_count": 11,
   "metadata": {
    "id": "hZqsN81vl1Jo"
   },
   "outputs": [
    {
     "name": "stdout",
     "output_type": "stream",
     "text": [
      "[[918   3]\n",
      " [163  13]]\n"
     ]
    }
   ],
   "source": [
    "# Creating Confusion Matrix\n",
    "conf_matrix = confusion_matrix(y_test, y_test_pred)\n",
    "print(conf_matrix)   "
   ]
  },
  {
   "cell_type": "code",
   "execution_count": 12,
   "metadata": {
    "id": "6Z9BSXNc7dCS"
   },
   "outputs": [
    {
     "data": {
      "image/png": "[encoded data removed]",
      "text/plain": [
       "<Figure size 432x288 with 2 Axes>"
      ]
     },
     "metadata": {
      "needs_background": "light"
     },
     "output_type": "display_data"
    }
   ],
   "source": [
    "plot = sns.heatmap(conf_matrix, annot=True, fmt = 'g')"
   ]
  },
  {
   "cell_type": "markdown",
   "metadata": {
    "id": "oC43W9wl8WAe"
   },
   "source": [
    "#### Classification Report"
   ]
  },
  {
   "cell_type": "code",
   "execution_count": 13,
   "metadata": {
    "id": "qBjMKFMI8WTV"
   },
   "outputs": [
    {
     "name": "stdout",
     "output_type": "stream",
     "text": [
      "              precision    recall  f1-score   support\n",
      "\n",
      "           0       0.85      1.00      0.92       921\n",
      "           1       0.81      0.07      0.14       176\n",
      "\n",
      "    accuracy                           0.85      1097\n",
      "   macro avg       0.83      0.54      0.53      1097\n",
      "weighted avg       0.84      0.85      0.79      1097\n",
      "\n"
     ]
    }
   ],
   "source": [
    "print(classification_report(y_test,y_test_pred))"
   ]
  },
  {
   "cell_type": "markdown",
   "metadata": {
    "id": "1DE4wqcgl1Jx"
   },
   "source": [
    "#### Plot Learning Curve"
   ]
  },
  {
   "cell_type": "code",
   "execution_count": 14,
   "metadata": {
    "id": "_Y3WqMGDl1Jx"
   },
   "outputs": [],
   "source": [
    "def plot_learning_curve(estimator, title, X, y, ylim=None, cv=None, n_jobs=1,\\\n",
    "                        train_sizes=np.linspace(.1, 1.0, 5), scoring='accuracy'):\n",
    "    \n",
    "    plt.figure(figsize=(10,6))\n",
    "    plt.title(title)\n",
    "    \n",
    "    if ylim is not None:\n",
    "        plt.ylim(*ylim)\n",
    "        \n",
    "    plt.xlabel(\"Training examples\")\n",
    "    plt.ylabel(scoring)\n",
    "    \n",
    "    train_sizes, train_scores, test_scores = learning_curve(estimator, X, y, cv=cv, scoring=scoring, n_jobs=n_jobs, train_sizes=train_sizes)\n",
    "    train_scores_mean = np.mean(train_scores, axis=1)\n",
    "    train_scores_std = np.std(train_scores, axis=1)\n",
    "    test_scores_mean = np.mean(test_scores, axis=1)\n",
    "    test_scores_std = np.std(test_scores, axis=1)\n",
    "    \n",
    "    plt.grid()\n",
    "\n",
    "    plt.fill_between(train_sizes, train_scores_mean - train_scores_std,\\\n",
    "                     train_scores_mean + train_scores_std, alpha=0.1, \\\n",
    "                     color=\"r\")\n",
    "    plt.fill_between(train_sizes, test_scores_mean - test_scores_std,\\\n",
    "                     test_scores_mean + test_scores_std, alpha=0.1, color=\"g\")\n",
    "    \n",
    "    plt.plot(train_sizes, train_scores_mean, 'o-', color=\"r\",label=\"Training score\")\n",
    "    plt.plot(train_sizes, test_scores_mean, 'o-', color=\"g\", label=\"Cross-validation score\")\n",
    "    plt.legend(loc=\"best\")\n",
    "    \n",
    "    return plt"
   ]
  },
  {
   "cell_type": "code",
   "execution_count": 15,
   "metadata": {
    "id": "rAxMGTcZl1Jz"
   },
   "outputs": [
    {
     "data": {
      "image/png": "[encoded data removed]",
      "text/plain": [
       "<Figure size 720x432 with 1 Axes>"
      ]
     },
     "metadata": {
      "needs_background": "light"
     },
     "output_type": "display_data"
    }
   ],
   "source": [
    "plot= plot_learning_curve(LogisticRegression(C = 1, class_weight='auto', solver= 'saga', penalty= 'l1'), 'Logistic Regression', X_train, y_train, cv=10)"
   ]
  },
  {
   "cell_type": "markdown",
   "metadata": {
    "id": "lOm18AXjl1J2"
   },
   "source": [
    "Training & Cross-validation Score almost have the same values as number of training examples are increasing, Models looks good for prediction"
   ]
  },
  {
   "cell_type": "markdown",
   "metadata": {
    "id": "pia9Lkgwl1J2"
   },
   "source": [
    "# Logistic Regression from Scratch"
   ]
  },
  {
   "cell_type": "markdown",
   "metadata": {
    "id": "e97hL1NOl1J2"
   },
   "source": [
    "### Parameter $\\theta$:\n",
    "$\\boldsymbol{\\theta} = [\\theta_0, \\theta_1, ..., \\theta_n]^T$"
   ]
  },
  {
   "cell_type": "markdown",
   "metadata": {
    "id": "f7oX48Col1J3"
   },
   "source": [
    "### Hypothesis:\n",
    "$H_\\boldsymbol{\\theta}(\\boldsymbol{x}) = \\frac{1}{1+e^{-\\boldsymbol{\\theta}^{T}\\boldsymbol{x}}}$"
   ]
  },
  {
   "cell_type": "markdown",
   "metadata": {
    "id": "zuBqxIPwl1J3"
   },
   "source": [
    "### For L1 regulazation, cost function:\n",
    "### $J(\\boldsymbol{\\theta}) = \\frac{1}{m}\\Vert\\boldsymbol{{\\theta}}\\Vert - C \\frac{1}{m} \\sum_{j=1}^m{y^{(j)}\\log{(h_\\boldsymbol{\\theta} (x^{(j)}))} + (1 - y^{(j)})\\log{(1-h_\\boldsymbol{\\theta} (x^{(j)}))}}$"
   ]
  },
  {
   "cell_type": "markdown",
   "metadata": {
    "id": "G3VSmx4tl1J4"
   },
   "source": [
    "### Gradient of the cost function is\n",
    "$\\frac{{\\partial J(\\boldsymbol{\\theta)}}}{\\partial \\theta_i} = \\frac{1}{m} + C \\frac{1}{m} \\sum_{j=1}^m (h_{\\boldsymbol{\\theta}} (\\boldsymbol{x}^{(j)})-y^{(j)})x_i^{(j)}$\n",
    "\n",
    "$\\nabla J(\\boldsymbol{\\theta})= \\frac{1}{m} + C\\frac{1}{m}((H_{\\boldsymbol{\\theta}}(\\boldsymbol{x}) -\\boldsymbol{y}) \\cdot \\boldsymbol{x}^T)$"
   ]
  },
  {
   "cell_type": "code",
   "execution_count": 16,
   "metadata": {
    "id": "cVe8Ay2ml1J4"
   },
   "outputs": [],
   "source": [
    "# Tranpose X and insert a row of 1 as first row\n",
    "x_train = np.insert(X_train.T, 0, 1, axis=0)\n",
    "x_test = np.insert(X_test.T, 0, 1, axis=0)"
   ]
  },
  {
   "cell_type": "code",
   "execution_count": 17,
   "metadata": {
    "id": "K7ZPr0VSl1J7"
   },
   "outputs": [],
   "source": [
    "# Defining different mathematical functions  \n",
    "\n",
    "def hypothesis(theta, x):\n",
    "    # Returns the H(theta)\n",
    "    return 1 / (1 + np.exp(-np.dot(theta.T, x)))\n",
    "\n",
    "def cost_function(theta, x, y, C):\n",
    "    # Computes the cost function\n",
    "    m = X.shape[0]\n",
    "\n",
    "    total_cost =  1/m*np.linalg.norm(theta, 1) - C * (1 / m) * np.sum(\n",
    "        y * np.log(hypothesis(theta, x)) + (1 - y) * np.log(\n",
    "            1 - hypothesis(theta, x)))\n",
    "    return total_cost\n",
    "\n",
    "def gradient(theta, x, y, C):\n",
    "    # Computes the gradient of the cost function at the point theta\n",
    "    m = x.shape[1]\n",
    "    return C * (1 / m) * np.dot(hypothesis(theta, x) - y, x.T) + 1/m\n",
    "\n",
    "def fit(x, y, C):\n",
    "    # Use scipy.optimize.fmin_tnc to find parameters minimize the cost function\n",
    "    theta = np.zeros((1, X.shape[1]+1))\n",
    "    opt_weights = fmin_tnc(func=cost_function, x0=theta,\n",
    "                  fprime=gradient,args=(x, y, C))\n",
    "    parameter = opt_weights[0].T\n",
    "    return parameter\n",
    "\n",
    "def predict(x, theta, probab_threshold=0.5):\n",
    "    # Predict the label using the x and parameters, with a default probability threshold 0.5\n",
    "    y_pred = (hypothesis(theta, x) >= probab_threshold).astype(int).flatten()\n",
    "    return y_pred\n"
   ]
  },
  {
   "cell_type": "markdown",
   "metadata": {
    "id": "gB-Td56il1KE"
   },
   "source": [
    "### Bias-Variance Trade-off"
   ]
  },
  {
   "cell_type": "code",
   "execution_count": 18,
   "metadata": {
    "id": "GFqrZ1Tml1KF"
   },
   "outputs": [],
   "source": [
    "# Tunning Hyperparameter C to show bias-variance trade-off\n",
    "result_list = []\n",
    "for C in C_list:\n",
    "    # Initiate theta as an vertical vector\n",
    "    theta = fit(x_train, y_train, C)\n",
    "    y_train_pred = predict(x_train, theta)\n",
    "    y_test_pred = predict(x_test, theta)\n",
    "    train_accuracy = accuracy_score(y_train, y_train_pred)\n",
    "    test_accuracy = accuracy_score(y_test, y_test_pred)\n",
    "    result_list.append((C, train_accuracy, test_accuracy))"
   ]
  },
  {
   "cell_type": "code",
   "execution_count": 19,
   "metadata": {
    "id": "sSI9SWhxl1KH"
   },
   "outputs": [
    {
     "data": {
      "image/png": "[encoded data removed]",
      "text/plain": [
       "<Figure size 432x288 with 1 Axes>"
      ]
     },
     "metadata": {
      "needs_background": "light"
     },
     "output_type": "display_data"
    }
   ],
   "source": [
    "result_df = pd.DataFrame(result_list, columns=[\"C\", \"train_accuracy\", \"test_accuracy\"])\n",
    "plot = result_df.plot(x=\"C\", y=[\"train_accuracy\", \"test_accuracy\"],  logx=True, title = 'Algorithm: Test and Train Accuracy Under Different Hyperprameters')\n",
    "plot.set_xlabel('C')\n",
    "plot.set_ylabel('Accuracy')\n",
    "plt.show()"
   ]
  },
  {
   "cell_type": "markdown",
   "metadata": {
    "id": "zEV1oLazl1J9"
   },
   "source": [
    "### Tuning Hyperparameter C with Cross Validation - Without scikit learn module"
   ]
  },
  {
   "cell_type": "code",
   "execution_count": 20,
   "metadata": {
    "id": "FA-vBvPgl1J9"
   },
   "outputs": [],
   "source": [
    "def kfold_split(x, y, folds):\n",
    "    # Generate the indexes for each fold\n",
    "    index_list = []\n",
    "    fold_size = x.shape[1] // folds\n",
    "    for i in range(folds):\n",
    "        if i == folds - 1:\n",
    "            index_list.append((fold_size*i, x_train.shape[1]))\n",
    "        else:\n",
    "            index_list.append((fold_size*i, fold_size*(i+1)))\n",
    "    return index_list\n",
    "\n",
    "def cross_validation(x, y, C_list, folds):\n",
    "    # Get a list of mean accruacy scores for each hyperparameter value using across validation\n",
    "    index_list = kfold_split(x, y, folds)\n",
    "    scores = []\n",
    "    for C in C_list:\n",
    "        accuracy_score_list = []\n",
    "        for j in range(folds):\n",
    "            start, end = index_list[j]\n",
    "            # get training and validation sets\n",
    "            x_cv_vad = x[:, start: end]\n",
    "            y_cv_vad = y[start: end]\n",
    "            x_cv_train = np.delete(x, range(start,end,1), axis = 1)\n",
    "            y_cv_train = pd.Series(np.delete(np.array(y), range(start,end,1)))\n",
    "\n",
    "            # fit the logistic regression model with training set            \n",
    "            theta = fit(x_cv_train, y_cv_train, C)\n",
    "            # predict the result using validation set and get the accuracy_score\n",
    "            y_cv_vad_pred = predict(x_cv_vad, theta)\n",
    "            accuracy = accuracy_score(y_cv_vad, y_cv_vad_pred)\n",
    "            accuracy_score_list.append(accuracy)\n",
    "        score = np.mean(accuracy_score_list)\n",
    "        scores.append(score)\n",
    "    return scores"
   ]
  },
  {
   "cell_type": "code",
   "execution_count": 21,
   "metadata": {
    "id": "87Ald1OVl1J_"
   },
   "outputs": [
    {
     "name": "stdout",
     "output_type": "stream",
     "text": [
      "Hyperparameter gives the best cross_validation_score is C = 1\n"
     ]
    }
   ],
   "source": [
    "# use 5 folds to reduce running time\n",
    "cross_validation_scores = cross_validation(x_train, y_train, C_list, 5)\n",
    "C = C_list[np.argmax(cross_validation_scores)]\n",
    "print('Hyperparameter gives the best cross_validation_score is C =', C)"
   ]
  },
  {
   "cell_type": "markdown",
   "metadata": {
    "id": "lhJQwqFDl1KC"
   },
   "source": [
    "### Through both ways, the value of C=1 remains same"
   ]
  },
  {
   "cell_type": "markdown",
   "metadata": {
    "id": "y2zJrvw-l1KJ"
   },
   "source": [
    "### Model Perfomance\n",
    "\n"
   ]
  },
  {
   "cell_type": "code",
   "execution_count": 22,
   "metadata": {
    "id": "YCGPSVBNl1KS"
   },
   "outputs": [
    {
     "data": {
      "image/png": "[encoded data removed]",
      "text/plain": [
       "<Figure size 432x288 with 1 Axes>"
      ]
     },
     "metadata": {
      "needs_background": "light"
     },
     "output_type": "display_data"
    }
   ],
   "source": [
    "fpr, tpr, thresholds = roc_curve(y_test,hypothesis(theta, x_test))\n",
    "\n",
    "plt.plot(fpr, tpr)\n",
    "\n",
    "plt.plot([0,1], [0,1], 'k--')\n",
    "plt.xlabel('False Positive Rate')\n",
    "plt.ylabel('True Positive Rate')\n",
    "plt.title('Logistic Regression ROC Curve')\n",
    "\n",
    "plt.show()"
   ]
  },
  {
   "cell_type": "code",
   "execution_count": 23,
   "metadata": {
    "id": "4HXFmBHJl1KK"
   },
   "outputs": [],
   "source": [
    "theta = fit(x_train, y_train, C)\n",
    "y_train_pred = predict(x_train, theta)\n",
    "y_test_pred = predict(x_test, theta)"
   ]
  },
  {
   "cell_type": "code",
   "execution_count": 24,
   "metadata": {
    "id": "IQB_YzuEl1KM"
   },
   "outputs": [
    {
     "name": "stdout",
     "output_type": "stream",
     "text": [
      "[[918   3]\n",
      " [163  13]]\n"
     ]
    }
   ],
   "source": [
    "conf_matrix = confusion_matrix(y_test, y_test_pred)\n",
    "print(conf_matrix)"
   ]
  },
  {
   "cell_type": "code",
   "execution_count": 25,
   "metadata": {
    "id": "9ykAKuQ0l1KP"
   },
   "outputs": [
    {
     "data": {
      "image/png": "[encoded data removed]",
      "text/plain": [
       "<Figure size 432x288 with 2 Axes>"
      ]
     },
     "metadata": {
      "needs_background": "light"
     },
     "output_type": "display_data"
    }
   ],
   "source": [
    "sns.heatmap(conf_matrix, annot=True, fmt = 'g')\n",
    "plt.show()"
   ]
  },
  {
   "cell_type": "code",
   "execution_count": 26,
   "metadata": {
    "id": "EUiMvtcFl1KQ"
   },
   "outputs": [
    {
     "name": "stdout",
     "output_type": "stream",
     "text": [
      "              precision    recall  f1-score   support\n",
      "\n",
      "           0       0.85      1.00      0.92       921\n",
      "           1       0.81      0.07      0.14       176\n",
      "\n",
      "    accuracy                           0.85      1097\n",
      "   macro avg       0.83      0.54      0.53      1097\n",
      "weighted avg       0.84      0.85      0.79      1097\n",
      "\n"
     ]
    }
   ],
   "source": [
    "print(classification_report(y_test,y_test_pred))"
   ]
  },
  {
   "cell_type": "code",
   "execution_count": null,
   "metadata": {
    "id": "KvFgDSiql1KU"
   },
   "outputs": [],
   "source": []
  }
 ],
 "metadata": {
  "colab": {
   "collapsed_sections": [],
   "name": "MIE1624 Group 8 - Logistic Regression.ipynb",
   "provenance": []
  },
  "kernelspec": {
   "display_name": "Python 3",
   "language": "python",
   "name": "python3"
  },
  "language_info": {
   "codemirror_mode": {
    "name": "ipython",
    "version": 3
   },
   "file_extension": ".py",
   "mimetype": "text/x-python",
   "name": "python",
   "nbconvert_exporter": "python",
   "pygments_lexer": "ipython3",
   "version": "3.8.8"
  }
 },
 "nbformat": 4,
 "nbformat_minor": 1
}
